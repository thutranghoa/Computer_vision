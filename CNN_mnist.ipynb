{
  "cells": [
    {
      "cell_type": "markdown",
      "metadata": {
        "id": "VIDpY9KCH5qg"
      },
      "source": [
        "**Activity 1**"
      ]
    },
    {
      "cell_type": "code",
      "execution_count": 1,
      "metadata": {
        "id": "qdGtE2XAmf_n"
      },
      "outputs": [],
      "source": [
        "import numpy as np\n",
        "import tensorflow\n",
        "from tensorflow.keras.models import Model\n",
        "from tensorflow.keras.layers import Dense, Dropout,Flatten, Input, Reshape\n",
        "from tensorflow.keras.layers import Conv2D, MaxPooling2D\n",
        "\n"
      ]
    },
    {
      "cell_type": "code",
      "execution_count": 2,
      "metadata": {
        "colab": {
          "base_uri": "https://localhost:8080/"
        },
        "id": "rpTAFqZMBdV0",
        "outputId": "e476475f-4e14-4c67-a1c3-205a9cfc33a9"
      },
      "outputs": [
        {
          "output_type": "stream",
          "name": "stdout",
          "text": [
            "Downloading data from https://storage.googleapis.com/tensorflow/tf-keras-datasets/mnist.npz\n",
            "11490434/11490434 [==============================] - 0s 0us/step\n"
          ]
        }
      ],
      "source": [
        "from tensorflow.keras.datasets.mnist import load_data\n",
        "(X_train, y_train), (X_test, y_test) = load_data()"
      ]
    },
    {
      "cell_type": "markdown",
      "metadata": {
        "id": "gNpWsl8cHrjY"
      },
      "source": [
        "**Activity 2 : Load data and preprocessing**"
      ]
    },
    {
      "cell_type": "code",
      "execution_count": 3,
      "metadata": {
        "colab": {
          "base_uri": "https://localhost:8080/"
        },
        "id": "gwzlprGSBt6B",
        "outputId": "bd9394e9-d2fd-4c48-c711-63c6ad4dae31"
      },
      "outputs": [
        {
          "output_type": "stream",
          "name": "stdout",
          "text": [
            "(60000, 28, 28) (60000,)\n",
            "(10000, 28, 28) (10000,)\n"
          ]
        }
      ],
      "source": [
        "print(X_train.shape, y_train.shape)\n",
        "print(X_test.shape, y_test.shape)\n"
      ]
    },
    {
      "cell_type": "code",
      "execution_count": 4,
      "metadata": {
        "colab": {
          "base_uri": "https://localhost:8080/",
          "height": 283
        },
        "id": "BWNScBbYBw-o",
        "outputId": "a5090bd8-2291-4a4e-ff6f-1b78da9d311b"
      },
      "outputs": [
        {
          "output_type": "stream",
          "name": "stdout",
          "text": [
            "4\n"
          ]
        },
        {
          "output_type": "display_data",
          "data": {
            "text/plain": [
              "<Figure size 432x288 with 1 Axes>"
            ],
            "image/png": "[encoded data removed]"
          },
          "metadata": {
            "needs_background": "light"
          }
        }
      ],
      "source": [
        "from matplotlib import pyplot as plt\n",
        "\n",
        "i = np.random.randint(60000)\n",
        "img = X_train[i]\n",
        "plt.imshow(img, cmap=\"gray\")\n",
        "print(y_train[2])"
      ]
    },
    {
      "cell_type": "code",
      "execution_count": 5,
      "metadata": {
        "id": "bQ_bPfArIo6I"
      },
      "outputs": [],
      "source": [
        "#Input : 28x28x1 chiều, giá trị [0,1]\n",
        "#Output là một vector 10 chiều , mỗi số biểu diễn khả năng ảnh là các số từ 0-9\n",
        "X_train_scaled = np.array(X_train) / 255\n",
        "X_test_scaled = np.array(X_test) / 255"
      ]
    },
    {
      "cell_type": "code",
      "execution_count": 6,
      "metadata": {
        "colab": {
          "base_uri": "https://localhost:8080/"
        },
        "id": "aaKErxutoXiV",
        "outputId": "ce4e6202-ec37-44f9-d108-7cdd9454f4c4"
      },
      "outputs": [
        {
          "output_type": "stream",
          "name": "stdout",
          "text": [
            "[0. 0. 0. 0. 1. 0. 0. 0. 0. 0.]\n"
          ]
        }
      ],
      "source": [
        "from sklearn.preprocessing import OneHotEncoder\n",
        "encoder = OneHotEncoder()\n",
        "encoder.fit(y_train.reshape(-1, 1))\n",
        "y_train = encoder.transform(y_train.reshape(-1,1)).toarray()\n",
        "y_test = encoder.transform(y_test.reshape(-1,1)).toarray()\n",
        "print (y_train[2])"
      ]
    },
    {
      "cell_type": "code",
      "execution_count": 7,
      "metadata": {
        "colab": {
          "base_uri": "https://localhost:8080/"
        },
        "id": "Ig3hK8F6HbCB",
        "outputId": "e8b76c90-a841-4438-be8c-b9f6e522601d"
      },
      "outputs": [
        {
          "output_type": "stream",
          "name": "stdout",
          "text": [
            "Model: \"model\"\n",
            "_________________________________________________________________\n",
            " Layer (type)                Output Shape              Param #   \n",
            "=================================================================\n",
            " input_1 (InputLayer)        [(None, 28, 28, 1)]       0         \n",
            "                                                                 \n",
            " conv2d (Conv2D)             (None, 24, 24, 16)        416       \n",
            "                                                                 \n",
            " max_pooling2d (MaxPooling2D  (None, 12, 12, 16)       0         \n",
            " )                                                               \n",
            "                                                                 \n",
            " dropout (Dropout)           (None, 12, 12, 16)        0         \n",
            "                                                                 \n",
            " conv2d_1 (Conv2D)           (None, 8, 8, 16)          6416      \n",
            "                                                                 \n",
            " max_pooling2d_1 (MaxPooling  (None, 4, 4, 16)         0         \n",
            " 2D)                                                             \n",
            "                                                                 \n",
            " dropout_1 (Dropout)         (None, 4, 4, 16)          0         \n",
            "                                                                 \n",
            " flatten (Flatten)           (None, 256)               0         \n",
            "                                                                 \n",
            " dense (Dense)               (None, 32)                8224      \n",
            "                                                                 \n",
            " dense_1 (Dense)             (None, 32)                1056      \n",
            "                                                                 \n",
            " dense_2 (Dense)             (None, 10)                330       \n",
            "                                                                 \n",
            "=================================================================\n",
            "Total params: 16,442\n",
            "Trainable params: 16,442\n",
            "Non-trainable params: 0\n",
            "_________________________________________________________________\n"
          ]
        }
      ],
      "source": [
        "inp = Input(shape = (28,28,1))\n",
        "cnn = Conv2D(filters = 16, kernel_size= 5, activation = 'relu')(inp)\n",
        "pooling = MaxPooling2D(pool_size = (2,2))(cnn)\n",
        "drop = Dropout (0.25) (pooling)\n",
        "\n",
        "cnn = Conv2D(filters = 16, kernel_size=5, activation='relu')(drop)\n",
        "pooling = MaxPooling2D(pool_size = (2,2))(cnn)\n",
        "drop = Dropout (0.25) (pooling)\n",
        "\n",
        "f = Flatten() (drop)\n",
        "fc1 = Dense (units = 32, activation = 'relu')(f)\n",
        "fc2 = Dense (units = 32, activation = 'relu')(fc1)\n",
        "out = Dense (units = 10, activation = 'softmax')(fc2)\n",
        "\n",
        "model = Model(inputs = inp, outputs = out)\n",
        "model.summary()"
      ]
    },
    {
      "cell_type": "code",
      "execution_count": 8,
      "metadata": {
        "colab": {
          "base_uri": "https://localhost:8080/"
        },
        "id": "WOIAaMl6qGzZ",
        "outputId": "9666accd-736b-4379-b1cc-b1729aee2102"
      },
      "outputs": [
        {
          "output_type": "stream",
          "name": "stdout",
          "text": [
            "Epoch 1/50\n",
            "469/469 [==============================] - 14s 6ms/step - loss: 0.5112 - accuracy: 0.8341 - val_loss: 0.1171 - val_accuracy: 0.9655\n",
            "Epoch 2/50\n",
            "469/469 [==============================] - 2s 5ms/step - loss: 0.1511 - accuracy: 0.9540 - val_loss: 0.0685 - val_accuracy: 0.9778\n",
            "Epoch 3/50\n",
            "469/469 [==============================] - 2s 5ms/step - loss: 0.1139 - accuracy: 0.9644 - val_loss: 0.0552 - val_accuracy: 0.9831\n",
            "Epoch 4/50\n",
            "469/469 [==============================] - 2s 5ms/step - loss: 0.0920 - accuracy: 0.9715 - val_loss: 0.0477 - val_accuracy: 0.9842\n",
            "Epoch 5/50\n",
            "469/469 [==============================] - 2s 5ms/step - loss: 0.0819 - accuracy: 0.9748 - val_loss: 0.0429 - val_accuracy: 0.9867\n",
            "Epoch 6/50\n",
            "469/469 [==============================] - 2s 5ms/step - loss: 0.0722 - accuracy: 0.9769 - val_loss: 0.0340 - val_accuracy: 0.9900\n",
            "Epoch 7/50\n",
            "469/469 [==============================] - 2s 5ms/step - loss: 0.0660 - accuracy: 0.9793 - val_loss: 0.0342 - val_accuracy: 0.9893\n",
            "Epoch 8/50\n",
            "469/469 [==============================] - 2s 5ms/step - loss: 0.0608 - accuracy: 0.9801 - val_loss: 0.0308 - val_accuracy: 0.9912\n",
            "Epoch 9/50\n",
            "469/469 [==============================] - 2s 5ms/step - loss: 0.0566 - accuracy: 0.9825 - val_loss: 0.0311 - val_accuracy: 0.9905\n",
            "Epoch 10/50\n",
            "469/469 [==============================] - 2s 5ms/step - loss: 0.0544 - accuracy: 0.9822 - val_loss: 0.0283 - val_accuracy: 0.9916\n",
            "Epoch 11/50\n",
            "469/469 [==============================] - 2s 5ms/step - loss: 0.0510 - accuracy: 0.9838 - val_loss: 0.0278 - val_accuracy: 0.9912\n",
            "Epoch 12/50\n",
            "469/469 [==============================] - 2s 5ms/step - loss: 0.0500 - accuracy: 0.9835 - val_loss: 0.0281 - val_accuracy: 0.9916\n",
            "Epoch 13/50\n",
            "469/469 [==============================] - 2s 5ms/step - loss: 0.0474 - accuracy: 0.9850 - val_loss: 0.0275 - val_accuracy: 0.9916\n",
            "Epoch 14/50\n",
            "469/469 [==============================] - 2s 5ms/step - loss: 0.0425 - accuracy: 0.9868 - val_loss: 0.0271 - val_accuracy: 0.9917\n",
            "Epoch 15/50\n",
            "469/469 [==============================] - 2s 5ms/step - loss: 0.0441 - accuracy: 0.9862 - val_loss: 0.0261 - val_accuracy: 0.9919\n",
            "Epoch 16/50\n",
            "469/469 [==============================] - 2s 5ms/step - loss: 0.0422 - accuracy: 0.9863 - val_loss: 0.0268 - val_accuracy: 0.9906\n",
            "Epoch 17/50\n",
            "469/469 [==============================] - 2s 5ms/step - loss: 0.0416 - accuracy: 0.9864 - val_loss: 0.0257 - val_accuracy: 0.9919\n",
            "Epoch 18/50\n",
            "469/469 [==============================] - 2s 5ms/step - loss: 0.0410 - accuracy: 0.9866 - val_loss: 0.0225 - val_accuracy: 0.9927\n",
            "Epoch 19/50\n",
            "469/469 [==============================] - 2s 5ms/step - loss: 0.0379 - accuracy: 0.9882 - val_loss: 0.0242 - val_accuracy: 0.9928\n",
            "Epoch 20/50\n",
            "469/469 [==============================] - 3s 7ms/step - loss: 0.0357 - accuracy: 0.9885 - val_loss: 0.0272 - val_accuracy: 0.9916\n",
            "Epoch 21/50\n",
            "469/469 [==============================] - 2s 5ms/step - loss: 0.0370 - accuracy: 0.9880 - val_loss: 0.0229 - val_accuracy: 0.9921\n",
            "Epoch 22/50\n",
            "469/469 [==============================] - 2s 5ms/step - loss: 0.0356 - accuracy: 0.9878 - val_loss: 0.0248 - val_accuracy: 0.9924\n",
            "Epoch 23/50\n",
            "469/469 [==============================] - 2s 5ms/step - loss: 0.0366 - accuracy: 0.9883 - val_loss: 0.0224 - val_accuracy: 0.9933\n",
            "Epoch 24/50\n",
            "469/469 [==============================] - 2s 5ms/step - loss: 0.0340 - accuracy: 0.9890 - val_loss: 0.0241 - val_accuracy: 0.9925\n",
            "Epoch 25/50\n",
            "469/469 [==============================] - 2s 5ms/step - loss: 0.0316 - accuracy: 0.9892 - val_loss: 0.0228 - val_accuracy: 0.9922\n",
            "Epoch 26/50\n",
            "469/469 [==============================] - 2s 5ms/step - loss: 0.0353 - accuracy: 0.9887 - val_loss: 0.0249 - val_accuracy: 0.9925\n",
            "Epoch 27/50\n",
            "469/469 [==============================] - 2s 5ms/step - loss: 0.0328 - accuracy: 0.9892 - val_loss: 0.0239 - val_accuracy: 0.9922\n",
            "Epoch 28/50\n",
            "469/469 [==============================] - 2s 5ms/step - loss: 0.0313 - accuracy: 0.9898 - val_loss: 0.0234 - val_accuracy: 0.9923\n",
            "Epoch 29/50\n",
            "469/469 [==============================] - 2s 5ms/step - loss: 0.0324 - accuracy: 0.9898 - val_loss: 0.0254 - val_accuracy: 0.9919\n",
            "Epoch 30/50\n",
            "469/469 [==============================] - 2s 5ms/step - loss: 0.0316 - accuracy: 0.9895 - val_loss: 0.0260 - val_accuracy: 0.9918\n",
            "Epoch 31/50\n",
            "469/469 [==============================] - 2s 5ms/step - loss: 0.0288 - accuracy: 0.9901 - val_loss: 0.0237 - val_accuracy: 0.9922\n",
            "Epoch 32/50\n",
            "469/469 [==============================] - 2s 5ms/step - loss: 0.0299 - accuracy: 0.9902 - val_loss: 0.0241 - val_accuracy: 0.9929\n",
            "Epoch 33/50\n",
            "469/469 [==============================] - 2s 5ms/step - loss: 0.0308 - accuracy: 0.9898 - val_loss: 0.0240 - val_accuracy: 0.9926\n",
            "Epoch 34/50\n",
            "469/469 [==============================] - 2s 5ms/step - loss: 0.0285 - accuracy: 0.9904 - val_loss: 0.0252 - val_accuracy: 0.9928\n",
            "Epoch 35/50\n",
            "469/469 [==============================] - 2s 5ms/step - loss: 0.0300 - accuracy: 0.9904 - val_loss: 0.0243 - val_accuracy: 0.9926\n",
            "Epoch 36/50\n",
            "469/469 [==============================] - 2s 5ms/step - loss: 0.0292 - accuracy: 0.9906 - val_loss: 0.0221 - val_accuracy: 0.9934\n",
            "Epoch 37/50\n",
            "469/469 [==============================] - 2s 5ms/step - loss: 0.0285 - accuracy: 0.9903 - val_loss: 0.0213 - val_accuracy: 0.9934\n",
            "Epoch 38/50\n",
            "469/469 [==============================] - 2s 5ms/step - loss: 0.0275 - accuracy: 0.9909 - val_loss: 0.0227 - val_accuracy: 0.9934\n",
            "Epoch 39/50\n",
            "469/469 [==============================] - 2s 5ms/step - loss: 0.0274 - accuracy: 0.9907 - val_loss: 0.0226 - val_accuracy: 0.9930\n",
            "Epoch 40/50\n",
            "469/469 [==============================] - 2s 5ms/step - loss: 0.0266 - accuracy: 0.9916 - val_loss: 0.0224 - val_accuracy: 0.9932\n",
            "Epoch 41/50\n",
            "469/469 [==============================] - 2s 5ms/step - loss: 0.0270 - accuracy: 0.9909 - val_loss: 0.0238 - val_accuracy: 0.9925\n",
            "Epoch 42/50\n",
            "469/469 [==============================] - 2s 5ms/step - loss: 0.0270 - accuracy: 0.9912 - val_loss: 0.0229 - val_accuracy: 0.9934\n",
            "Epoch 43/50\n",
            "469/469 [==============================] - 2s 5ms/step - loss: 0.0267 - accuracy: 0.9915 - val_loss: 0.0246 - val_accuracy: 0.9929\n",
            "Epoch 44/50\n",
            "469/469 [==============================] - 2s 5ms/step - loss: 0.0273 - accuracy: 0.9910 - val_loss: 0.0238 - val_accuracy: 0.9934\n",
            "Epoch 45/50\n",
            "469/469 [==============================] - 2s 5ms/step - loss: 0.0251 - accuracy: 0.9918 - val_loss: 0.0212 - val_accuracy: 0.9935\n",
            "Epoch 46/50\n",
            "469/469 [==============================] - 2s 5ms/step - loss: 0.0251 - accuracy: 0.9912 - val_loss: 0.0216 - val_accuracy: 0.9927\n",
            "Epoch 47/50\n",
            "469/469 [==============================] - 2s 5ms/step - loss: 0.0255 - accuracy: 0.9910 - val_loss: 0.0230 - val_accuracy: 0.9936\n",
            "Epoch 48/50\n",
            "469/469 [==============================] - 2s 5ms/step - loss: 0.0243 - accuracy: 0.9918 - val_loss: 0.0256 - val_accuracy: 0.9925\n",
            "Epoch 49/50\n",
            "469/469 [==============================] - 3s 7ms/step - loss: 0.0250 - accuracy: 0.9915 - val_loss: 0.0245 - val_accuracy: 0.9925\n",
            "Epoch 50/50\n",
            "469/469 [==============================] - 2s 5ms/step - loss: 0.0244 - accuracy: 0.9917 - val_loss: 0.0218 - val_accuracy: 0.9934\n"
          ]
        }
      ],
      "source": [
        "model.compile(optimizer = 'adam', loss = 'categorical_crossentropy', metrics=['accuracy'])\n",
        "\n",
        "history = model.fit(X_train_scaled, y_train, batch_size=128, epochs = 50, validation_data=(X_test_scaled, y_test))"
      ]
    },
    {
      "cell_type": "code",
      "execution_count": 9,
      "metadata": {
        "colab": {
          "base_uri": "https://localhost:8080/",
          "height": 573
        },
        "id": "_U0zdP0Dw4V0",
        "outputId": "b02a6bd1-7649-401a-f655-360cb047d0ab"
      },
      "outputs": [
        {
          "output_type": "display_data",
          "data": {
            "text/plain": [
              "<Figure size 432x288 with 1 Axes>"
            ],
            "image/png": "[encoded data removed]"
          },
          "metadata": {
            "needs_background": "light"
          }
        },
        {
          "output_type": "display_data",
          "data": {
            "text/plain": [
              "<Figure size 432x288 with 1 Axes>"
            ],
            "image/png": "[encoded data removed]"
          },
          "metadata": {
            "needs_background": "light"
          }
        }
      ],
      "source": [
        "his = history\n",
        "plt.plot(his.history['accuracy'])\n",
        "plt.plot(his.history['val_accuracy'])\n",
        "plt.title('model accuracy')\n",
        "plt.ylabel('accuracy')\n",
        "plt.xlabel('epoch')\n",
        "plt.legend(['train', 'validation'], loc='upper left')\n",
        "plt.show()\n",
        "# \"Loss\"\n",
        "plt.plot(his.history['loss'])\n",
        "plt.plot(his.history['val_loss'])\n",
        "plt.title('model loss')\n",
        "plt.ylabel('loss')\n",
        "plt.xlabel('epoch')\n",
        "plt.legend(['train', 'validation'], loc='upper left')\n",
        "plt.show()"
      ]
    },
    {
      "cell_type": "code",
      "source": [
        "i = np.random.randint(10000)\n",
        "plt.imshow(X_test_scaled[i], cmap='gray')\n",
        "\n",
        "y_predict = model.predict(X_test[i].reshape(1,28,28,1))\n",
        "print('Giá trị dự đoán: ', np.argmax(y_predict))"
      ],
      "metadata": {
        "colab": {
          "base_uri": "https://localhost:8080/",
          "height": 302
        },
        "id": "AeKyrHN4kXAF",
        "outputId": "9cc60f25-4351-48b7-a67d-636911e2fc6b"
      },
      "execution_count": 10,
      "outputs": [
        {
          "output_type": "stream",
          "name": "stdout",
          "text": [
            "1/1 [==============================] - 0s 131ms/step\n",
            "Giá trị dự đoán:  6\n"
          ]
        },
        {
          "output_type": "display_data",
          "data": {
            "text/plain": [
              "<Figure size 432x288 with 1 Axes>"
            ],
            "image/png": "[encoded data removed]"
          },
          "metadata": {
            "needs_background": "light"
          }
        }
      ]
    },
    {
      "cell_type": "code",
      "source": [
        "score = model.evaluate(X_test_scaled, y_test, verbose=0)\n",
        "print(score)"
      ],
      "metadata": {
        "colab": {
          "base_uri": "https://localhost:8080/"
        },
        "id": "tEDZbyaOx3RN",
        "outputId": "8d586048-28b1-4c43-f4d2-32483729b905"
      },
      "execution_count": 11,
      "outputs": [
        {
          "output_type": "stream",
          "name": "stdout",
          "text": [
            "[0.02179005742073059, 0.993399977684021]\n"
          ]
        }
      ]
    },
    {
      "cell_type": "code",
      "execution_count": 12,
      "metadata": {
        "id": "Ot1KQO_sxTP_"
      },
      "outputs": [],
      "source": [
        "model.save('mnist.h5')"
      ]
    }
  ],
  "metadata": {
    "accelerator": "GPU",
    "colab": {
      "provenance": []
    },
    "kernelspec": {
      "display_name": "Python 3",
      "name": "python3"
    },
    "language_info": {
      "name": "python"
    }
  },
  "nbformat": 4,
  "nbformat_minor": 0
}